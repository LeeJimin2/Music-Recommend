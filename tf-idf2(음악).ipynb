{
 "cells": [
  {
   "cell_type": "code",
   "execution_count": 1,
   "id": "d252310e",
   "metadata": {},
   "outputs": [],
   "source": [
    "import pandas as pd"
   ]
  },
  {
   "cell_type": "code",
   "execution_count": 2,
   "id": "dead99f7",
   "metadata": {},
   "outputs": [],
   "source": [
    "data = pd.read_csv(\"멜론TOP100 가사.csv\")"
   ]
  },
  {
   "cell_type": "code",
   "execution_count": 4,
   "id": "487a152d",
   "metadata": {},
   "outputs": [
    {
     "data": {
      "text/html": [
       "<div>\n",
       "<style scoped>\n",
       "    .dataframe tbody tr th:only-of-type {\n",
       "        vertical-align: middle;\n",
       "    }\n",
       "\n",
       "    .dataframe tbody tr th {\n",
       "        vertical-align: top;\n",
       "    }\n",
       "\n",
       "    .dataframe thead th {\n",
       "        text-align: right;\n",
       "    }\n",
       "</style>\n",
       "<table border=\"1\" class=\"dataframe\">\n",
       "  <thead>\n",
       "    <tr style=\"text-align: right;\">\n",
       "      <th></th>\n",
       "      <th>Unnamed: 0</th>\n",
       "      <th>제목</th>\n",
       "      <th>가수</th>\n",
       "      <th>가사</th>\n",
       "    </tr>\n",
       "  </thead>\n",
       "  <tbody>\n",
       "    <tr>\n",
       "      <th>0</th>\n",
       "      <td>0</td>\n",
       "      <td>사건의 지평선</td>\n",
       "      <td>윤하 (YOUNHA)</td>\n",
       "      <td>생각이 많은 건 말이야\\n당연히 해야 할 일이야\\n나에겐 우리가 지금 1순위야\\n안...</td>\n",
       "    </tr>\n",
       "    <tr>\n",
       "      <th>1</th>\n",
       "      <td>1</td>\n",
       "      <td>Nxde</td>\n",
       "      <td>(여자)아이들</td>\n",
       "      <td>Why you think that ’bout nude\\n’Cause your vie...</td>\n",
       "    </tr>\n",
       "    <tr>\n",
       "      <th>2</th>\n",
       "      <td>2</td>\n",
       "      <td>ANTIFRAGILE</td>\n",
       "      <td>LE SSERAFIM (르세라핌)</td>\n",
       "      <td>Anti ti ti ti fragile fragile\\nAnti ti ti ti f...</td>\n",
       "    </tr>\n",
       "    <tr>\n",
       "      <th>3</th>\n",
       "      <td>3</td>\n",
       "      <td>Hype boy</td>\n",
       "      <td>NewJeans</td>\n",
       "      <td>(1,2,3,4)\\nBaby, got me looking so crazy\\n빠져버리...</td>\n",
       "    </tr>\n",
       "    <tr>\n",
       "      <th>4</th>\n",
       "      <td>4</td>\n",
       "      <td>After LIKE</td>\n",
       "      <td>IVE (아이브)</td>\n",
       "      <td>또 모르지 내 마음이\\n저 날씨처럼 바뀔지\\n날 나조차 다 알 수 없으니\\n그게 뭐...</td>\n",
       "    </tr>\n",
       "  </tbody>\n",
       "</table>\n",
       "</div>"
      ],
      "text/plain": [
       "   Unnamed: 0           제목                  가수  \\\n",
       "0           0      사건의 지평선         윤하 (YOUNHA)   \n",
       "1           1         Nxde             (여자)아이들   \n",
       "2           2  ANTIFRAGILE  LE SSERAFIM (르세라핌)   \n",
       "3           3     Hype boy            NewJeans   \n",
       "4           4   After LIKE           IVE (아이브)   \n",
       "\n",
       "                                                  가사  \n",
       "0  생각이 많은 건 말이야\\n당연히 해야 할 일이야\\n나에겐 우리가 지금 1순위야\\n안...  \n",
       "1  Why you think that ’bout nude\\n’Cause your vie...  \n",
       "2  Anti ti ti ti fragile fragile\\nAnti ti ti ti f...  \n",
       "3  (1,2,3,4)\\nBaby, got me looking so crazy\\n빠져버리...  \n",
       "4  또 모르지 내 마음이\\n저 날씨처럼 바뀔지\\n날 나조차 다 알 수 없으니\\n그게 뭐...  "
      ]
     },
     "execution_count": 4,
     "metadata": {},
     "output_type": "execute_result"
    }
   ],
   "source": [
    "data.head()"
   ]
  },
  {
   "cell_type": "code",
   "execution_count": 5,
   "id": "3566da95",
   "metadata": {},
   "outputs": [],
   "source": [
    "from sklearn.feature_extraction.text import CountVectorizer"
   ]
  },
  {
   "cell_type": "code",
   "execution_count": 6,
   "id": "b3a7e1d9",
   "metadata": {},
   "outputs": [],
   "source": [
    "vect = CountVectorizer()"
   ]
  },
  {
   "cell_type": "code",
   "execution_count": 7,
   "id": "e3a33220",
   "metadata": {},
   "outputs": [],
   "source": [
    "data = data.가사"
   ]
  },
  {
   "cell_type": "code",
   "execution_count": 8,
   "id": "a935b5d5",
   "metadata": {},
   "outputs": [],
   "source": [
    "data = data.apply(str)"
   ]
  },
  {
   "cell_type": "code",
   "execution_count": 9,
   "id": "a3cf0edf",
   "metadata": {},
   "outputs": [],
   "source": [
    "data = data.to_frame(name = \"lyrics\")"
   ]
  },
  {
   "cell_type": "code",
   "execution_count": 10,
   "id": "8438c941",
   "metadata": {},
   "outputs": [
    {
     "data": {
      "text/html": [
       "<div>\n",
       "<style scoped>\n",
       "    .dataframe tbody tr th:only-of-type {\n",
       "        vertical-align: middle;\n",
       "    }\n",
       "\n",
       "    .dataframe tbody tr th {\n",
       "        vertical-align: top;\n",
       "    }\n",
       "\n",
       "    .dataframe thead th {\n",
       "        text-align: right;\n",
       "    }\n",
       "</style>\n",
       "<table border=\"1\" class=\"dataframe\">\n",
       "  <thead>\n",
       "    <tr style=\"text-align: right;\">\n",
       "      <th></th>\n",
       "      <th>lyrics</th>\n",
       "    </tr>\n",
       "  </thead>\n",
       "  <tbody>\n",
       "    <tr>\n",
       "      <th>0</th>\n",
       "      <td>생각이 많은 건 말이야\\n당연히 해야 할 일이야\\n나에겐 우리가 지금 1순위야\\n안...</td>\n",
       "    </tr>\n",
       "    <tr>\n",
       "      <th>1</th>\n",
       "      <td>Why you think that ’bout nude\\n’Cause your vie...</td>\n",
       "    </tr>\n",
       "    <tr>\n",
       "      <th>2</th>\n",
       "      <td>Anti ti ti ti fragile fragile\\nAnti ti ti ti f...</td>\n",
       "    </tr>\n",
       "    <tr>\n",
       "      <th>3</th>\n",
       "      <td>(1,2,3,4)\\nBaby, got me looking so crazy\\n빠져버리...</td>\n",
       "    </tr>\n",
       "    <tr>\n",
       "      <th>4</th>\n",
       "      <td>또 모르지 내 마음이\\n저 날씨처럼 바뀔지\\n날 나조차 다 알 수 없으니\\n그게 뭐...</td>\n",
       "    </tr>\n",
       "    <tr>\n",
       "      <th>...</th>\n",
       "      <td>...</td>\n",
       "    </tr>\n",
       "    <tr>\n",
       "      <th>95</th>\n",
       "      <td>그대 나를 많이 기다렸나요\\n그대 나를 많이 생각했나요\\n내가 그대에게 오기까지\\n...</td>\n",
       "    </tr>\n",
       "    <tr>\n",
       "      <th>96</th>\n",
       "      <td>가장 가까운 바다\\n혼자만의 영화관\\n그냥 이끌리는 대로 해도 괜찮으니까\\nEver...</td>\n",
       "    </tr>\n",
       "    <tr>\n",
       "      <th>97</th>\n",
       "      <td>우리 함께 듣던 그 노랠 듣고 싶을까\\n듣고 나서 잠시 날 생각은 할까\\n아주 혹시...</td>\n",
       "    </tr>\n",
       "    <tr>\n",
       "      <th>98</th>\n",
       "      <td>하나만 알고 둘은\\n잘 모르는 사람입니다\\n하루는 비틀거리고\\n하루는 뒤뚱거리고\\n...</td>\n",
       "    </tr>\n",
       "    <tr>\n",
       "      <th>99</th>\n",
       "      <td>아무렇지 않게 내 하루가 또\\n지나갈 쯤에 문득\\n네가 없다는 게 익숙해진 내가\\n...</td>\n",
       "    </tr>\n",
       "  </tbody>\n",
       "</table>\n",
       "<p>100 rows × 1 columns</p>\n",
       "</div>"
      ],
      "text/plain": [
       "                                               lyrics\n",
       "0   생각이 많은 건 말이야\\n당연히 해야 할 일이야\\n나에겐 우리가 지금 1순위야\\n안...\n",
       "1   Why you think that ’bout nude\\n’Cause your vie...\n",
       "2   Anti ti ti ti fragile fragile\\nAnti ti ti ti f...\n",
       "3   (1,2,3,4)\\nBaby, got me looking so crazy\\n빠져버리...\n",
       "4   또 모르지 내 마음이\\n저 날씨처럼 바뀔지\\n날 나조차 다 알 수 없으니\\n그게 뭐...\n",
       "..                                                ...\n",
       "95  그대 나를 많이 기다렸나요\\n그대 나를 많이 생각했나요\\n내가 그대에게 오기까지\\n...\n",
       "96  가장 가까운 바다\\n혼자만의 영화관\\n그냥 이끌리는 대로 해도 괜찮으니까\\nEver...\n",
       "97  우리 함께 듣던 그 노랠 듣고 싶을까\\n듣고 나서 잠시 날 생각은 할까\\n아주 혹시...\n",
       "98  하나만 알고 둘은\\n잘 모르는 사람입니다\\n하루는 비틀거리고\\n하루는 뒤뚱거리고\\n...\n",
       "99  아무렇지 않게 내 하루가 또\\n지나갈 쯤에 문득\\n네가 없다는 게 익숙해진 내가\\n...\n",
       "\n",
       "[100 rows x 1 columns]"
      ]
     },
     "execution_count": 10,
     "metadata": {},
     "output_type": "execute_result"
    }
   ],
   "source": [
    "data"
   ]
  },
  {
   "cell_type": "code",
   "execution_count": 11,
   "id": "22ba623f",
   "metadata": {},
   "outputs": [],
   "source": [
    "import numpy as np"
   ]
  },
  {
   "cell_type": "code",
   "execution_count": 13,
   "id": "e3c7b0ea",
   "metadata": {},
   "outputs": [],
   "source": [
    "from sklearn.feature_extraction.text import TfidfVectorizer"
   ]
  },
  {
   "cell_type": "code",
   "execution_count": 14,
   "id": "9af0954c",
   "metadata": {},
   "outputs": [
    {
     "data": {
      "text/plain": [
       "0     생각이 많은 건 말이야\\n당연히 해야 할 일이야\\n나에겐 우리가 지금 1순위야\\n안...\n",
       "1     Why you think that ’bout nude\\n’Cause your vie...\n",
       "2     Anti ti ti ti fragile fragile\\nAnti ti ti ti f...\n",
       "3     (1,2,3,4)\\nBaby, got me looking so crazy\\n빠져버리...\n",
       "4     또 모르지 내 마음이\\n저 날씨처럼 바뀔지\\n날 나조차 다 알 수 없으니\\n그게 뭐...\n",
       "                            ...                        \n",
       "95    그대 나를 많이 기다렸나요\\n그대 나를 많이 생각했나요\\n내가 그대에게 오기까지\\n...\n",
       "96    가장 가까운 바다\\n혼자만의 영화관\\n그냥 이끌리는 대로 해도 괜찮으니까\\nEver...\n",
       "97    우리 함께 듣던 그 노랠 듣고 싶을까\\n듣고 나서 잠시 날 생각은 할까\\n아주 혹시...\n",
       "98    하나만 알고 둘은\\n잘 모르는 사람입니다\\n하루는 비틀거리고\\n하루는 뒤뚱거리고\\n...\n",
       "99    아무렇지 않게 내 하루가 또\\n지나갈 쯤에 문득\\n네가 없다는 게 익숙해진 내가\\n...\n",
       "Name: lyrics, Length: 100, dtype: object"
      ]
     },
     "execution_count": 14,
     "metadata": {},
     "output_type": "execute_result"
    }
   ],
   "source": [
    "data['lyrics']"
   ]
  },
  {
   "cell_type": "code",
   "execution_count": 15,
   "id": "04a08975",
   "metadata": {},
   "outputs": [],
   "source": [
    "data = data[data['lyrics'].notnull()].reset_index(drop = True)"
   ]
  },
  {
   "cell_type": "code",
   "execution_count": 16,
   "id": "b232a5ff",
   "metadata": {},
   "outputs": [
    {
     "data": {
      "text/plain": [
       "100"
      ]
     },
     "execution_count": 16,
     "metadata": {},
     "output_type": "execute_result"
    }
   ],
   "source": [
    "len(data)"
   ]
  },
  {
   "cell_type": "code",
   "execution_count": 17,
   "id": "def066d2",
   "metadata": {},
   "outputs": [],
   "source": [
    "data = data.loc[:9999].reset_index(drop = True)"
   ]
  },
  {
   "cell_type": "code",
   "execution_count": 18,
   "id": "bf7c0b27",
   "metadata": {},
   "outputs": [],
   "source": [
    "tfidf_vect = TfidfVectorizer()"
   ]
  },
  {
   "cell_type": "code",
   "execution_count": 19,
   "id": "ca8b4e1a",
   "metadata": {},
   "outputs": [],
   "source": [
    "tfidf_matrix = tfidf_vect.fit_transform(data[\"lyrics\"]).todense()"
   ]
  },
  {
   "cell_type": "code",
   "execution_count": 20,
   "id": "067e4d26",
   "metadata": {},
   "outputs": [
    {
     "data": {
      "text/plain": [
       "(100, 5377)"
      ]
     },
     "execution_count": 20,
     "metadata": {},
     "output_type": "execute_result"
    }
   ],
   "source": [
    "tfidf_matrix.shape"
   ]
  },
  {
   "cell_type": "code",
   "execution_count": 21,
   "id": "3bb110b4",
   "metadata": {},
   "outputs": [
    {
     "data": {
      "text/plain": [
       "matrix([[0., 0., 0., ..., 0., 0., 0.]])"
      ]
     },
     "execution_count": 21,
     "metadata": {},
     "output_type": "execute_result"
    }
   ],
   "source": [
    "tfidf_matrix[1]"
   ]
  },
  {
   "cell_type": "code",
   "execution_count": 26,
   "id": "4c917bf1",
   "metadata": {},
   "outputs": [],
   "source": [
    "from sklearn.metrics.pairwise import cosine_similarity"
   ]
  },
  {
   "cell_type": "code",
   "execution_count": 27,
   "id": "40bd7275",
   "metadata": {},
   "outputs": [],
   "source": [
    "cosine_matrix = cosine_similarity(tfidf_matrix, tfidf_matrix)"
   ]
  },
  {
   "cell_type": "code",
   "execution_count": 28,
   "id": "8301d485",
   "metadata": {},
   "outputs": [
    {
     "data": {
      "text/plain": [
       "100"
      ]
     },
     "execution_count": 28,
     "metadata": {},
     "output_type": "execute_result"
    }
   ],
   "source": [
    "len(cosine_matrix)"
   ]
  },
  {
   "cell_type": "code",
   "execution_count": 29,
   "id": "6f91272e",
   "metadata": {},
   "outputs": [
    {
     "data": {
      "text/plain": [
       "array([[1.00000000e+00, 0.00000000e+00, 7.89335182e-04, ...,\n",
       "        3.07505433e-03, 0.00000000e+00, 5.46100342e-03],\n",
       "       [0.00000000e+00, 1.00000000e+00, 2.43542236e-02, ...,\n",
       "        2.18872678e-02, 3.39814802e-03, 7.70628520e-02],\n",
       "       [7.89335182e-04, 2.43542236e-02, 1.00000000e+00, ...,\n",
       "        1.09962799e-02, 3.32016076e-03, 3.92481693e-02],\n",
       "       ...,\n",
       "       [3.07505433e-03, 2.18872678e-02, 1.09962799e-02, ...,\n",
       "        1.00000000e+00, 2.51235469e-03, 4.72262580e-02],\n",
       "       [0.00000000e+00, 3.39814802e-03, 3.32016076e-03, ...,\n",
       "        2.51235469e-03, 1.00000000e+00, 7.70137750e-03],\n",
       "       [5.46100342e-03, 7.70628520e-02, 3.92481693e-02, ...,\n",
       "        4.72262580e-02, 7.70137750e-03, 1.00000000e+00]])"
      ]
     },
     "execution_count": 29,
     "metadata": {},
     "output_type": "execute_result"
    }
   ],
   "source": [
    "cosine_matrix"
   ]
  },
  {
   "cell_type": "code",
   "execution_count": 34,
   "id": "1668ab71",
   "metadata": {},
   "outputs": [],
   "source": [
    "data1 = pd.read_csv(\"멜론TOP100 가사.csv\")"
   ]
  },
  {
   "cell_type": "code",
   "execution_count": 36,
   "id": "69849cee",
   "metadata": {},
   "outputs": [
    {
     "data": {
      "text/plain": [
       "0         사건의 지평선\n",
       "1            Nxde\n",
       "2     ANTIFRAGILE\n",
       "3        Hype boy\n",
       "4      After LIKE\n",
       "         ...     \n",
       "95        나의 목소리로\n",
       "96        Weekend\n",
       "97         듣고 싶을까\n",
       "98        인생은 뷰티풀\n",
       "99         아무래도 난\n",
       "Name: 제목, Length: 100, dtype: object"
      ]
     },
     "execution_count": 36,
     "metadata": {},
     "output_type": "execute_result"
    }
   ],
   "source": [
    "data1[\"제목\"]"
   ]
  },
  {
   "cell_type": "code",
   "execution_count": 37,
   "id": "73b79808",
   "metadata": {},
   "outputs": [],
   "source": [
    "idx2content = {}\n",
    "for i, c in enumerate(data1['제목']): idx2content[i] = c\n",
    "    \n",
    "content2idx = {}\n",
    "for i, c in idx2content.items(): content2idx[c] = i"
   ]
  },
  {
   "cell_type": "code",
   "execution_count": 38,
   "id": "d1c82b7f",
   "metadata": {},
   "outputs": [
    {
     "data": {
      "text/plain": [
       "{0: '사건의 지평선',\n",
       " 1: 'Nxde',\n",
       " 2: 'ANTIFRAGILE',\n",
       " 3: 'Hype boy',\n",
       " 4: 'After LIKE',\n",
       " 5: '새삥 (Prod. ZICO) (Feat. 호미들)',\n",
       " 6: 'Rush Hour (Feat. j-hope of BTS)',\n",
       " 7: 'Attention',\n",
       " 8: 'Monologue',\n",
       " 9: 'Shut Down',\n",
       " 10: 'LOVE DIVE',\n",
       " 11: '사랑은 늘 도망가',\n",
       " 12: '자격지심 (Feat. ZICO)',\n",
       " 13: 'Pink Venom',\n",
       " 14: '딱 10CM만',\n",
       " 15: '우리들의 블루스',\n",
       " 16: 'TOMBOY',\n",
       " 17: '다시 만날 수 있을까',\n",
       " 18: '그때 그 순간 그대로 (그그그)',\n",
       " 19: '해요 (2022)',\n",
       " 20: '그라데이션',\n",
       " 21: '우린 그렇게 사랑해서',\n",
       " 22: 'Cookie',\n",
       " 23: '사랑인가 봐',\n",
       " 24: '무지개',\n",
       " 25: '내가 아니라도',\n",
       " 26: '이제 나만 믿어요',\n",
       " 27: '아버지',\n",
       " 28: '정이라고 하자 (Feat. 10CM)',\n",
       " 29: 'FEARLESS',\n",
       " 30: 'A bientot',\n",
       " 31: '보고싶었어',\n",
       " 32: '너의 모든 순간',\n",
       " 33: '나의 X에게',\n",
       " 34: 'ELEVEN',\n",
       " 35: '손이 참 곱던 그대',\n",
       " 36: 'That That (prod. & feat. SUGA of BTS)',\n",
       " 37: '인생찬가',\n",
       " 38: '사랑해 진짜',\n",
       " 39: '떠나보낼 준비해 둘걸 그랬어',\n",
       " 40: '취중고백',\n",
       " 41: '연애편지',\n",
       " 42: \"That's Hilarious\",\n",
       " 43: '내 기쁨은 너가 벤틀리를 끄는 거야',\n",
       " 44: 'FOREVER 1',\n",
       " 45: '다정히 내 이름을 부르면',\n",
       " 46: 'LOVE me',\n",
       " 47: '사랑역',\n",
       " 48: '보금자리',\n",
       " 49: '사랑해요 그대를',\n",
       " 50: 'Dynamite',\n",
       " 51: 'LAW (Prod. Czaer)',\n",
       " 52: \"I Don't Think That I Like Her\",\n",
       " 53: '새벽에 걸려온 너의 전화는',\n",
       " 54: 'SNEAKERS',\n",
       " 55: 'Love story',\n",
       " 56: '도깨비불 (Illusion)',\n",
       " 57: 'Left and Right (Feat. Jung Kook of BTS)',\n",
       " 58: '모든 날, 모든 순간 (Every day, Every Moment)',\n",
       " 59: 'STAY',\n",
       " 60: '봄여름가을겨울 (Still Life)',\n",
       " 61: 'POP!',\n",
       " 62: '밤하늘의 별을(2020)',\n",
       " 63: 'Butter',\n",
       " 64: '사랑한다고 말해줘',\n",
       " 65: '스티커 사진',\n",
       " 66: '주저하는 연인들을 위해',\n",
       " 67: '고백연습',\n",
       " 68: '봄날',\n",
       " 69: '첫사랑',\n",
       " 70: 'The Astronaut',\n",
       " 71: 'Yet To Come',\n",
       " 72: 'Permission to Dance',\n",
       " 73: 'Feel My Rhythm',\n",
       " 74: 'MY BAG',\n",
       " 75: '그래서 그대는',\n",
       " 76: '신호등',\n",
       " 77: 'strawberry moon',\n",
       " 78: '내 손을 잡아',\n",
       " 79: 'INVU',\n",
       " 80: '통화연결음',\n",
       " 81: '못해',\n",
       " 82: '드라마',\n",
       " 83: 'Off My Face',\n",
       " 84: 'Next Level',\n",
       " 85: '회전목마 (Feat. Zion.T, 원슈타인) (Prod. Slom)',\n",
       " 86: 'Girls',\n",
       " 87: \"바보에게 바보가 (웹툰 '연애의 발견' X 이석훈)\",\n",
       " 88: 'DICE',\n",
       " 89: '늦은 밤 헤어지긴 너무 아쉬워',\n",
       " 90: '그중에 그대를 만나',\n",
       " 91: '너를 생각해',\n",
       " 92: 'GANADARA (Feat. 아이유)',\n",
       " 93: \"I Ain't Worried\",\n",
       " 94: 'Talk that Talk',\n",
       " 95: '나의 목소리로',\n",
       " 96: 'Weekend',\n",
       " 97: '듣고 싶을까',\n",
       " 98: '인생은 뷰티풀',\n",
       " 99: '아무래도 난'}"
      ]
     },
     "execution_count": 38,
     "metadata": {},
     "output_type": "execute_result"
    }
   ],
   "source": [
    "idx2content"
   ]
  },
  {
   "cell_type": "code",
   "execution_count": 39,
   "id": "ed7ac63f",
   "metadata": {},
   "outputs": [],
   "source": [
    "idx = content2idx['사건의 지평선']"
   ]
  },
  {
   "cell_type": "code",
   "execution_count": 40,
   "id": "2fc834e7",
   "metadata": {},
   "outputs": [
    {
     "data": {
      "text/plain": [
       "0"
      ]
     },
     "execution_count": 40,
     "metadata": {},
     "output_type": "execute_result"
    }
   ],
   "source": [
    "idx"
   ]
  },
  {
   "cell_type": "code",
   "execution_count": 42,
   "id": "f899c928",
   "metadata": {},
   "outputs": [
    {
     "data": {
      "text/plain": [
       "[(41, 0.05798529828760892),\n",
       " (77, 0.04597174385108514),\n",
       " (19, 0.045353110433971174),\n",
       " (89, 0.04267666896276952),\n",
       " (45, 0.04251514013472193)]"
      ]
     },
     "execution_count": 42,
     "metadata": {},
     "output_type": "execute_result"
    }
   ],
   "source": [
    "sim_scores = [(i,c) for i,c in enumerate(cosine_matrix[idx]) if i != idx]\n",
    "sim_scores = sorted(sim_scores, key = lambda x:x[1], reverse = True)\n",
    "sim_scores[:5]"
   ]
  },
  {
   "cell_type": "code",
   "execution_count": 43,
   "id": "21aff42d",
   "metadata": {},
   "outputs": [
    {
     "data": {
      "text/plain": [
       "[('연애편지', 0.05798529828760892),\n",
       " ('strawberry moon', 0.04597174385108514),\n",
       " ('해요 (2022)', 0.045353110433971174),\n",
       " ('늦은 밤 헤어지긴 너무 아쉬워', 0.04267666896276952),\n",
       " ('다정히 내 이름을 부르면', 0.04251514013472193)]"
      ]
     },
     "execution_count": 43,
     "metadata": {},
     "output_type": "execute_result"
    }
   ],
   "source": [
    "sim_scores = [(idx2content[i], c) for i,c in sim_scores[:5]]\n",
    "sim_scores"
   ]
  },
  {
   "cell_type": "code",
   "execution_count": null,
   "id": "5ce54150",
   "metadata": {},
   "outputs": [],
   "source": []
  }
 ],
 "metadata": {
  "kernelspec": {
   "display_name": "Python 3 (ipykernel)",
   "language": "python",
   "name": "python3"
  },
  "language_info": {
   "codemirror_mode": {
    "name": "ipython",
    "version": 3
   },
   "file_extension": ".py",
   "mimetype": "text/x-python",
   "name": "python",
   "nbconvert_exporter": "python",
   "pygments_lexer": "ipython3",
   "version": "3.9.7"
  }
 },
 "nbformat": 4,
 "nbformat_minor": 5
}
