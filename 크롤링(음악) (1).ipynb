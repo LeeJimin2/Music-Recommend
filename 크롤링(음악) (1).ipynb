{
 "cells": [
  {
   "cell_type": "code",
   "execution_count": 2,
   "id": "2a1f60cb",
   "metadata": {},
   "outputs": [
    {
     "name": "stdout",
     "output_type": "stream",
     "text": [
      "Collecting bs4\n",
      "  Downloading bs4-0.0.1.tar.gz (1.1 kB)\n",
      "Requirement already satisfied: beautifulsoup4 in c:\\users\\yerim\\anaconda3\\lib\\site-packages (from bs4) (4.10.0)\n",
      "Requirement already satisfied: soupsieve>1.2 in c:\\users\\yerim\\anaconda3\\lib\\site-packages (from beautifulsoup4->bs4) (2.2.1)\n",
      "Building wheels for collected packages: bs4\n",
      "  Building wheel for bs4 (setup.py): started\n",
      "  Building wheel for bs4 (setup.py): finished with status 'done'\n",
      "  Created wheel for bs4: filename=bs4-0.0.1-py3-none-any.whl size=1271 sha256=19056b272512889cc503094c4ce58b441e6d990bc73e4089d0086211aef7b37b\n",
      "  Stored in directory: c:\\users\\yerim\\appdata\\local\\pip\\cache\\wheels\\73\\2b\\cb\\099980278a0c9a3e57ff1a89875ec07bfa0b6fcbebb9a8cad3\n",
      "Successfully built bs4\n",
      "Installing collected packages: bs4\n",
      "Successfully installed bs4-0.0.1\n",
      "Note: you may need to restart the kernel to use updated packages.\n"
     ]
    }
   ],
   "source": [
    "pip install bs4"
   ]
  },
  {
   "cell_type": "code",
   "execution_count": 3,
   "id": "eee7b438",
   "metadata": {},
   "outputs": [],
   "source": [
    "import requests as req"
   ]
  },
  {
   "cell_type": "code",
   "execution_count": 4,
   "id": "02478c05",
   "metadata": {},
   "outputs": [],
   "source": [
    "from bs4 import BeautifulSoup as bs"
   ]
  },
  {
   "cell_type": "code",
   "execution_count": 5,
   "id": "04dc2b71",
   "metadata": {},
   "outputs": [
    {
     "name": "stdout",
     "output_type": "stream",
     "text": [
      "Collecting selenium\n",
      "  Downloading selenium-4.6.0-py3-none-any.whl (5.2 MB)\n",
      "Collecting trio-websocket~=0.9\n",
      "  Downloading trio_websocket-0.9.2-py3-none-any.whl (16 kB)\n",
      "Requirement already satisfied: urllib3[socks]~=1.26 in c:\\users\\main\\anaconda3\\lib\\site-packages (from selenium) (1.26.7)\n",
      "Requirement already satisfied: certifi>=2021.10.8 in c:\\users\\main\\anaconda3\\lib\\site-packages (from selenium) (2021.10.8)\n",
      "Collecting trio~=0.17\n",
      "  Downloading trio-0.22.0-py3-none-any.whl (384 kB)\n",
      "Requirement already satisfied: cffi>=1.14 in c:\\users\\main\\anaconda3\\lib\\site-packages (from trio~=0.17->selenium) (1.14.6)\n",
      "Requirement already satisfied: idna in c:\\users\\main\\anaconda3\\lib\\site-packages (from trio~=0.17->selenium) (3.2)\n",
      "Requirement already satisfied: sortedcontainers in c:\\users\\main\\anaconda3\\lib\\site-packages (from trio~=0.17->selenium) (2.4.0)\n",
      "Requirement already satisfied: attrs>=19.2.0 in c:\\users\\main\\anaconda3\\lib\\site-packages (from trio~=0.17->selenium) (21.2.0)\n",
      "Collecting outcome\n",
      "  Downloading outcome-1.2.0-py2.py3-none-any.whl (9.7 kB)\n",
      "Collecting exceptiongroup>=1.0.0rc9\n",
      "  Downloading exceptiongroup-1.0.1-py3-none-any.whl (12 kB)\n",
      "Requirement already satisfied: async-generator>=1.9 in c:\\users\\main\\anaconda3\\lib\\site-packages (from trio~=0.17->selenium) (1.10)\n",
      "Requirement already satisfied: sniffio in c:\\users\\main\\anaconda3\\lib\\site-packages (from trio~=0.17->selenium) (1.2.0)\n",
      "Requirement already satisfied: pycparser in c:\\users\\main\\anaconda3\\lib\\site-packages (from cffi>=1.14->trio~=0.17->selenium) (2.20)\n",
      "Collecting wsproto>=0.14\n",
      "  Downloading wsproto-1.2.0-py3-none-any.whl (24 kB)\n",
      "Requirement already satisfied: PySocks!=1.5.7,<2.0,>=1.5.6 in c:\\users\\main\\anaconda3\\lib\\site-packages (from urllib3[socks]~=1.26->selenium) (1.7.1)\n",
      "Collecting h11<1,>=0.9.0\n",
      "  Downloading h11-0.14.0-py3-none-any.whl (58 kB)\n",
      "Installing collected packages: outcome, h11, exceptiongroup, wsproto, trio, trio-websocket, selenium\n",
      "Successfully installed exceptiongroup-1.0.1 h11-0.14.0 outcome-1.2.0 selenium-4.6.0 trio-0.22.0 trio-websocket-0.9.2 wsproto-1.2.0\n",
      "Note: you may need to restart the kernel to use updated packages.\n"
     ]
    }
   ],
   "source": [
    "pip install selenium"
   ]
  },
  {
   "cell_type": "code",
   "execution_count": 5,
   "id": "82da75b1",
   "metadata": {},
   "outputs": [],
   "source": [
    "import pandas as pd"
   ]
  },
  {
   "cell_type": "code",
   "execution_count": 6,
   "id": "729d2a41",
   "metadata": {},
   "outputs": [],
   "source": [
    "from selenium import webdriver"
   ]
  },
  {
   "cell_type": "code",
   "execution_count": 7,
   "id": "8d6cc23e",
   "metadata": {},
   "outputs": [],
   "source": [
    "import time"
   ]
  },
  {
   "cell_type": "code",
   "execution_count": 8,
   "id": "19572bb3",
   "metadata": {},
   "outputs": [],
   "source": [
    "from tqdm.notebook import tqdm"
   ]
  },
  {
   "cell_type": "code",
   "execution_count": 9,
   "id": "66cc28c7",
   "metadata": {},
   "outputs": [],
   "source": [
    "from selenium.webdriver.common.by import By"
   ]
  },
  {
   "cell_type": "code",
   "execution_count": 10,
   "id": "3896adb4",
   "metadata": {},
   "outputs": [
    {
     "name": "stderr",
     "output_type": "stream",
     "text": [
      "C:\\Users\\yerim\\AppData\\Local\\Temp/ipykernel_23464/1632439923.py:2: DeprecationWarning: executable_path has been deprecated, please pass in a Service object\n",
      "  driver = webdriver.Chrome(path)\n"
     ]
    }
   ],
   "source": [
    "path = \"chromedriver.exe\"\n",
    "driver = webdriver.Chrome(path)\n",
    "\n",
    "driver.get('http://www.melon.com')\n",
    "time.sleep(2)"
   ]
  },
  {
   "cell_type": "code",
   "execution_count": 11,
   "id": "a1ffcf56",
   "metadata": {},
   "outputs": [],
   "source": [
    "# 멜론차트 클릭\n",
    "from selenium.webdriver.common.by import By\n",
    "\n",
    "driver.find_element(By.CSS_SELECTOR, '.menu_bg.menu01').click()\n",
    "\n",
    "# 실행 기다리기\n",
    "time.sleep(1)"
   ]
  },
  {
   "cell_type": "code",
   "execution_count": 12,
   "id": "21ad34b9",
   "metadata": {},
   "outputs": [],
   "source": [
    "#일간차트 클릭\n",
    "driver.find_element(By.CSS_SELECTOR, '.menu_chart.m2').click()"
   ]
  },
  {
   "cell_type": "code",
   "execution_count": 13,
   "id": "de12b1f7",
   "metadata": {},
   "outputs": [],
   "source": [
    "# 곡정보 더보기 버튼 클릭\n",
    "more_info_list = driver.find_element(By.CSS_SELECTOR, \"a.btn.button_icons.type03.song_info\")\n",
    "more_info_list.click()\n",
    "time.sleep(1)"
   ]
  },
  {
   "cell_type": "code",
   "execution_count": 14,
   "id": "5384fd53",
   "metadata": {},
   "outputs": [
    {
     "data": {
      "text/plain": [
       "'사건의 지평선'"
      ]
     },
     "execution_count": 14,
     "metadata": {},
     "output_type": "execute_result"
    }
   ],
   "source": [
    "# 노래제목\n",
    "song = driver.find_element(By.CSS_SELECTOR, \".song_name\")\n",
    "song.text"
   ]
  },
  {
   "cell_type": "code",
   "execution_count": 15,
   "id": "b1a56184",
   "metadata": {},
   "outputs": [
    {
     "data": {
      "text/plain": [
       "'윤하 (YOUNHA)'"
      ]
     },
     "execution_count": 15,
     "metadata": {},
     "output_type": "execute_result"
    }
   ],
   "source": [
    "# 가수명\n",
    "artist = driver.find_element(By.CSS_SELECTOR, \".artist\")\n",
    "artist.text"
   ]
  },
  {
   "cell_type": "code",
   "execution_count": 16,
   "id": "6c594909",
   "metadata": {},
   "outputs": [
    {
     "data": {
      "text/plain": [
       "['앨범',\n",
       " \"YOUNHA 6th Album Repackage 'END THEORY : Final Edition'\",\n",
       " '발매일',\n",
       " '2022.03.30',\n",
       " '장르',\n",
       " '록/메탈',\n",
       " 'FLAC',\n",
       " 'Flac 16bit']"
      ]
     },
     "execution_count": 16,
     "metadata": {},
     "output_type": "execute_result"
    }
   ],
   "source": [
    "# 곡 정보\n",
    "meta_info = driver.find_element(By.CSS_SELECTOR, \".list\").text.split('\\n')\n",
    "meta_info"
   ]
  },
  {
   "cell_type": "code",
   "execution_count": 17,
   "id": "f338169a",
   "metadata": {},
   "outputs": [
    {
     "data": {
      "text/plain": [
       "'2022.03.30'"
      ]
     },
     "execution_count": 17,
     "metadata": {},
     "output_type": "execute_result"
    }
   ],
   "source": [
    "meta_info[3]"
   ]
  },
  {
   "cell_type": "code",
   "execution_count": 18,
   "id": "5047dd01",
   "metadata": {},
   "outputs": [],
   "source": [
    "driver.find_element(By.CSS_SELECTOR, \".button_more.arrow_d\").click()"
   ]
  },
  {
   "cell_type": "code",
   "execution_count": 19,
   "id": "12061696",
   "metadata": {},
   "outputs": [
    {
     "data": {
      "text/plain": [
       "'생각이 많은 건 말이야\\n당연히 해야 할 일이야\\n나에겐 우리가 지금 1순위야\\n안전한 유리병을 핑계로\\n바람을 가둬 둔 것 같지만\\n\\n기억나? 그날의 우리가\\n잡았던 그 손엔 말이야\\n설레임보다 커다란 믿음이 담겨서\\n난 함박웃음을 지었지만\\n울음이 날 것도 같았어\\n소중한 건 언제나 두려움이니까\\n\\n문을 열면 들리던 목소리\\n너로 인해 변해있던 따뜻한 공기\\n여전히 자신 없지만 안녕히\\n\\n저기, 사라진 별의 자리\\n아스라이 하얀 빛\\n한동안은 꺼내 볼 수 있을 거야\\n아낌없이 반짝인 시간은\\n조금씩 옅어져 가더라도\\n너와 내 맘에 살아 숨 쉴 테니\\n\\n\\n여긴, 서로의 끝이 아닌\\n새로운 길 모퉁이\\n익숙함에 진심을 속이지 말자\\n하나 둘 추억이 떠오르면\\n많이 많이 그리워할 거야\\n고마웠어요 그래도 이제는\\n사건의 지평선 너머로\\n\\n솔직히 두렵기도 하지만\\n노력은 우리에게 정답이 아니라서\\n마지막 선물은 산뜻한 안녕\\n\\n저기, 사라진 별의 자리\\n아스라이 하얀 빛\\n한동안은 꺼내 볼 수 있을 거야\\n아낌없이 반짝인 시간은\\n조금씩 옅어져 가더라도\\n너와 내 맘에 살아 숨 쉴 테니\\n\\n여긴, 서로의 끝이 아닌\\n새로운 길 모퉁이\\n익숙함에 진심을 속이지 말자\\n하나 둘 추억이 떠오르면\\n많이 많이 그리워할 거야\\n고마웠어요 그래도 이제는\\n사건의 지평선 너머로\\n\\n저기, 사라진 별의 자리\\n아스라이 하얀 빛\\n한동안은 꺼내 볼 수 있을 거야\\n아낌없이 반짝인 시간은\\n조금씩 옅어져 가더라도\\n너와 내 맘에 살아 숨 쉴 테니\\n\\n여긴, 서로의 끝이 아닌\\n새로운 길 모퉁이\\n익숙함에 진심을 속이지 말자\\n하나 둘 추억이 떠오르면\\n많이 많이 그리워할 거야\\n고마웠어요 그래도 이제는\\n사건의 지평선 너머로\\n\\n사건의 지평선 너머로'"
      ]
     },
     "execution_count": 19,
     "metadata": {},
     "output_type": "execute_result"
    }
   ],
   "source": [
    "# 노래 가사\n",
    "lyric = driver.find_element(By.CSS_SELECTOR, \".lyric.on\")\n",
    "lyric.text"
   ]
  },
  {
   "cell_type": "code",
   "execution_count": 28,
   "id": "a5af8389",
   "metadata": {},
   "outputs": [
    {
     "ename": "SyntaxError",
     "evalue": "unexpected EOF while parsing (Temp/ipykernel_23464/2970143985.py, line 22)",
     "output_type": "error",
     "traceback": [
      "\u001b[1;36m  File \u001b[1;32m\"C:\\Users\\yerim\\AppData\\Local\\Temp/ipykernel_23464/2970143985.py\"\u001b[1;36m, line \u001b[1;32m22\u001b[0m\n\u001b[1;33m    time.sleep(1)\u001b[0m\n\u001b[1;37m                 ^\u001b[0m\n\u001b[1;31mSyntaxError\u001b[0m\u001b[1;31m:\u001b[0m unexpected EOF while parsing\n"
     ]
    }
   ],
   "source": [
    "path=\"chromedriver.exe\"\n",
    "driver=webdriver.Chrome(path)\n",
    "\n",
    "driver.get(\"http://www.melon.com\")\n",
    "time.sleep(2)\n",
    "\n",
    "driver.find_element(By.CSS_SELECTOR, \".menu_bg.menu01\").click()\n",
    "time.sleep(2)\n",
    "\n",
    "driver.find_element(By.CSS_SELECTOR, \".menu_chart.m2\").click()\n",
    "\n",
    "dict={}\n",
    "number=100\n",
    "\n",
    "for i in range(0, number):\n",
    "    more_info_list = driver.find_element(By.CSS_SELECTOR, \".btn.button_icons.type03.song_info\")\n",
    "    more_info_list[i].click()\n",
    "    time.sleep(1)\n",
    "    \n",
    "    try:\n",
    "        music_info = {}\n",
    "        time.sleep(1)\n",
    "        \n",
    "        "
   ]
  },
  {
   "cell_type": "code",
   "execution_count": 26,
   "id": "d62da51d",
   "metadata": {},
   "outputs": [],
   "source": [
    "import pandas as pd\n",
    "from selenium import webdriver\n",
    "import time\n",
    "from tqdm.notebook import tqdm\n",
    "from bs4 import BeautifulSoup\n",
    "import re\n",
    "from selenium.webdriver.common.by import By"
   ]
  },
  {
   "cell_type": "code",
   "execution_count": 30,
   "id": "09751c9f",
   "metadata": {},
   "outputs": [
    {
     "name": "stderr",
     "output_type": "stream",
     "text": [
      "C:\\Users\\yerim\\AppData\\Local\\Temp/ipykernel_23464/1006984213.py:3: DeprecationWarning: executable_path has been deprecated, please pass in a Service object\n",
      "  driver = webdriver.Chrome('chromedriver.exe')\n"
     ]
    }
   ],
   "source": [
    "from bs4 import BeautifulSoup\n",
    "from selenium import webdriver\n",
    "driver = webdriver.Chrome('chromedriver.exe')\n",
    "import re\n",
    "import pandas as pd"
   ]
  },
  {
   "cell_type": "code",
   "execution_count": 106,
   "id": "eee32fe5",
   "metadata": {},
   "outputs": [],
   "source": [
    "driver.get(\"https://www.melon.com/chart/index.htm\")"
   ]
  },
  {
   "cell_type": "code",
   "execution_count": 107,
   "id": "2bc84fd0",
   "metadata": {},
   "outputs": [],
   "source": [
    "title=driver.find_elements(By.CLASS_NAME,'ellipsis.rank01')"
   ]
  },
  {
   "cell_type": "code",
   "execution_count": 108,
   "id": "e3d6a7e0",
   "metadata": {},
   "outputs": [],
   "source": [
    "title2=[]\n",
    "for i in title:\n",
    "    title2.append(i.text)"
   ]
  },
  {
   "cell_type": "code",
   "execution_count": 109,
   "id": "28f4857d",
   "metadata": {},
   "outputs": [
    {
     "data": {
      "text/plain": [
       "['사건의 지평선',\n",
       " 'Nxde',\n",
       " 'ANTIFRAGILE',\n",
       " 'Hype boy',\n",
       " 'After LIKE',\n",
       " '새삥 (Prod. ZICO) (Feat. 호미들)',\n",
       " 'Rush Hour (Feat. j-hope of BTS)',\n",
       " 'Attention',\n",
       " 'Monologue',\n",
       " 'Shut Down',\n",
       " 'LOVE DIVE',\n",
       " '사랑은 늘 도망가',\n",
       " '자격지심 (Feat. ZICO)',\n",
       " 'Pink Venom',\n",
       " '딱 10CM만',\n",
       " '우리들의 블루스',\n",
       " 'TOMBOY',\n",
       " '다시 만날 수 있을까',\n",
       " '그때 그 순간 그대로 (그그그)',\n",
       " '해요 (2022)',\n",
       " '그라데이션',\n",
       " '우린 그렇게 사랑해서',\n",
       " 'Cookie',\n",
       " '사랑인가 봐',\n",
       " '무지개',\n",
       " '내가 아니라도',\n",
       " '이제 나만 믿어요',\n",
       " '아버지',\n",
       " '정이라고 하자 (Feat. 10CM)',\n",
       " 'FEARLESS',\n",
       " 'A bientot',\n",
       " '보고싶었어',\n",
       " '너의 모든 순간',\n",
       " '나의 X에게',\n",
       " 'ELEVEN',\n",
       " '손이 참 곱던 그대',\n",
       " 'That That (prod. & feat. SUGA of BTS)',\n",
       " '인생찬가',\n",
       " '사랑해 진짜',\n",
       " '떠나보낼 준비해 둘걸 그랬어',\n",
       " '취중고백',\n",
       " '연애편지',\n",
       " \"That's Hilarious\",\n",
       " '내 기쁨은 너가 벤틀리를 끄는 거야',\n",
       " 'FOREVER 1',\n",
       " '다정히 내 이름을 부르면',\n",
       " 'LOVE me',\n",
       " '사랑역',\n",
       " '보금자리',\n",
       " '사랑해요 그대를',\n",
       " 'Dynamite',\n",
       " 'LAW (Prod. Czaer)',\n",
       " \"I Don't Think That I Like Her\",\n",
       " '새벽에 걸려온 너의 전화는',\n",
       " 'SNEAKERS',\n",
       " 'Love story',\n",
       " '도깨비불 (Illusion)',\n",
       " 'Left and Right (Feat. Jung Kook of BTS)',\n",
       " '모든 날, 모든 순간 (Every day, Every Moment)',\n",
       " 'STAY',\n",
       " '봄여름가을겨울 (Still Life)',\n",
       " 'POP!',\n",
       " '밤하늘의 별을(2020)',\n",
       " 'Butter',\n",
       " '사랑한다고 말해줘',\n",
       " '스티커 사진',\n",
       " '주저하는 연인들을 위해',\n",
       " '고백연습',\n",
       " '봄날',\n",
       " '첫사랑',\n",
       " 'The Astronaut',\n",
       " 'Yet To Come',\n",
       " 'Permission to Dance',\n",
       " 'Feel My Rhythm',\n",
       " 'MY BAG',\n",
       " '그래서 그대는',\n",
       " '신호등',\n",
       " 'strawberry moon',\n",
       " '내 손을 잡아',\n",
       " 'INVU',\n",
       " '통화연결음',\n",
       " '못해',\n",
       " '드라마',\n",
       " 'Off My Face',\n",
       " 'Next Level',\n",
       " '회전목마 (Feat. Zion.T, 원슈타인) (Prod. Slom)',\n",
       " 'Girls',\n",
       " \"바보에게 바보가 (웹툰 '연애의 발견' X 이석훈)\",\n",
       " 'DICE',\n",
       " '늦은 밤 헤어지긴 너무 아쉬워',\n",
       " '그중에 그대를 만나',\n",
       " '너를 생각해',\n",
       " 'GANADARA (Feat. 아이유)',\n",
       " \"I Ain't Worried\",\n",
       " 'Talk that Talk',\n",
       " '나의 목소리로',\n",
       " 'Weekend',\n",
       " '듣고 싶을까',\n",
       " '인생은 뷰티풀',\n",
       " '아무래도 난']"
      ]
     },
     "execution_count": 109,
     "metadata": {},
     "output_type": "execute_result"
    }
   ],
   "source": [
    "title2"
   ]
  },
  {
   "cell_type": "code",
   "execution_count": 111,
   "id": "05185267",
   "metadata": {},
   "outputs": [],
   "source": [
    "singer=driver.find_elements(By.CLASS_NAME,'ellipsis.rank02')"
   ]
  },
  {
   "cell_type": "code",
   "execution_count": 112,
   "id": "09b4e739",
   "metadata": {},
   "outputs": [],
   "source": [
    "singer2=[]\n",
    "for i in singer:\n",
    "    singer2.append(i.text)"
   ]
  },
  {
   "cell_type": "code",
   "execution_count": 113,
   "id": "87047126",
   "metadata": {},
   "outputs": [
    {
     "data": {
      "text/plain": [
       "['윤하 (YOUNHA)',\n",
       " '(여자)아이들',\n",
       " 'LE SSERAFIM (르세라핌)',\n",
       " 'NewJeans',\n",
       " 'IVE (아이브)',\n",
       " '지코 (ZICO)',\n",
       " 'Crush',\n",
       " 'NewJeans',\n",
       " '테이',\n",
       " 'BLACKPINK',\n",
       " 'IVE (아이브)',\n",
       " '임영웅',\n",
       " \"BE'O (비오)\",\n",
       " 'BLACKPINK',\n",
       " '10CM, BIG Naughty (서동현)',\n",
       " '임영웅',\n",
       " '(여자)아이들',\n",
       " '임영웅',\n",
       " 'WSG워너비 (가야G)',\n",
       " '#안녕',\n",
       " '10CM',\n",
       " '강민경 (다비치), 잔나비 최정훈',\n",
       " 'NewJeans',\n",
       " '멜로망스',\n",
       " '임영웅',\n",
       " '주호',\n",
       " '임영웅',\n",
       " '임영웅',\n",
       " 'BIG Naughty (서동현)',\n",
       " 'LE SSERAFIM (르세라핌)',\n",
       " '임영웅',\n",
       " 'WSG워너비 (4FIRE)',\n",
       " '성시경',\n",
       " '경서',\n",
       " 'IVE (아이브)',\n",
       " '임영웅',\n",
       " '싸이 (PSY)',\n",
       " '임영웅',\n",
       " '임영웅',\n",
       " '임한별',\n",
       " '김민석 (멜로망스)',\n",
       " '임영웅',\n",
       " 'Charlie Puth',\n",
       " '김승민',\n",
       " \"소녀시대 (GIRLS' GENERATION)\",\n",
       " '경서예지, 전건호',\n",
       " \"BE'O (비오)\",\n",
       " '임영웅',\n",
       " '임영웅',\n",
       " '임영웅',\n",
       " '방탄소년단',\n",
       " '윤미래, 비비 (BIBI)',\n",
       " 'Charlie Puth',\n",
       " '한동근',\n",
       " 'ITZY (있지)',\n",
       " '볼빨간사춘기',\n",
       " 'aespa',\n",
       " 'Charlie Puth, 정국, 방탄소년단',\n",
       " '폴킴',\n",
       " 'The Kid LAROI, Justin Bieber',\n",
       " 'BIGBANG (빅뱅)',\n",
       " '나연 (TWICE)',\n",
       " '경서',\n",
       " '방탄소년단',\n",
       " '탑현',\n",
       " '21학번',\n",
       " '잔나비',\n",
       " '경서',\n",
       " '방탄소년단',\n",
       " '백아',\n",
       " '진',\n",
       " '방탄소년단',\n",
       " '방탄소년단',\n",
       " 'Red Velvet (레드벨벳)',\n",
       " '(여자)아이들',\n",
       " '이영현',\n",
       " '이무진',\n",
       " '아이유',\n",
       " '아이유',\n",
       " '태연 (TAEYEON)',\n",
       " '보라미유, MJ (써니사이드)',\n",
       " '김나영',\n",
       " '아이유',\n",
       " 'Justin Bieber',\n",
       " 'aespa',\n",
       " 'sokodomo',\n",
       " 'aespa',\n",
       " '이석훈',\n",
       " 'NMIXX',\n",
       " '케이시 (Kassy)',\n",
       " '김호중',\n",
       " '주시크 (Joosiq)',\n",
       " '박재범',\n",
       " 'OneRepublic',\n",
       " 'TWICE (트와이스)',\n",
       " '김호중',\n",
       " '태연 (TAEYEON)',\n",
       " 'MSG워너비(M.O.M)',\n",
       " '김호중',\n",
       " '주시크 (Joosiq)']"
      ]
     },
     "execution_count": 113,
     "metadata": {},
     "output_type": "execute_result"
    }
   ],
   "source": [
    "singer2"
   ]
  },
  {
   "cell_type": "code",
   "execution_count": 125,
   "id": "9bd61817",
   "metadata": {},
   "outputs": [],
   "source": [
    "songTagList = driver.find_elements(By.ID,'lst50')\n",
    "songTagList.extend(driver.find_elements(By.ID,'lst100'))\n",
    "\n",
    "number=[]\n",
    "for i in songTagList:\n",
    "    number.append(i.get_attribute('data-song-no'))"
   ]
  },
  {
   "cell_type": "code",
   "execution_count": 126,
   "id": "49d56019",
   "metadata": {},
   "outputs": [
    {
     "data": {
      "text/plain": [
       "100"
      ]
     },
     "execution_count": 126,
     "metadata": {},
     "output_type": "execute_result"
    }
   ],
   "source": [
    "len(songTagList)"
   ]
  },
  {
   "cell_type": "code",
   "execution_count": 127,
   "id": "b3652547",
   "metadata": {},
   "outputs": [],
   "source": [
    "LYRIC=[]\n",
    "for i in number:\n",
    "    driver.get(\"https://www.melon.com/song/detail.htm?songId=\" + i)\n",
    "    lyric=driver.find_element(By.CLASS_NAME,\"lyric\")\n",
    "    LYRIC.append(lyric.text)"
   ]
  },
  {
   "cell_type": "code",
   "execution_count": 110,
   "id": "35e2a4e5",
   "metadata": {},
   "outputs": [
    {
     "data": {
      "text/plain": [
       "100"
      ]
     },
     "execution_count": 110,
     "metadata": {},
     "output_type": "execute_result"
    }
   ],
   "source": [
    "len(title2)"
   ]
  },
  {
   "cell_type": "code",
   "execution_count": 114,
   "id": "a7a5f8af",
   "metadata": {},
   "outputs": [
    {
     "data": {
      "text/plain": [
       "100"
      ]
     },
     "execution_count": 114,
     "metadata": {},
     "output_type": "execute_result"
    }
   ],
   "source": [
    "len(singer2)"
   ]
  },
  {
   "cell_type": "code",
   "execution_count": 128,
   "id": "95b3106b",
   "metadata": {},
   "outputs": [
    {
     "data": {
      "text/plain": [
       "100"
      ]
     },
     "execution_count": 128,
     "metadata": {},
     "output_type": "execute_result"
    }
   ],
   "source": [
    "len(LYRIC)"
   ]
  },
  {
   "cell_type": "code",
   "execution_count": 132,
   "id": "eb32fd70",
   "metadata": {},
   "outputs": [],
   "source": [
    "df=pd.DataFrame({\"제목\":title2,\"가수\":singer2,\"가사\":LYRIC})\n",
    "df.to_excel(\"C:\\\\Users\\\\yerim\\\\Documents\\\\Downloads\\\\멜론TOP100 가사.xlsx\",  encoding='utf-8')\n"
   ]
  },
  {
   "cell_type": "markdown",
   "id": "dabb69c0",
   "metadata": {},
   "source": [
    "연도별 멜론 차트-1960년대"
   ]
  },
  {
   "cell_type": "code",
   "execution_count": null,
   "id": "175b847c",
   "metadata": {},
   "outputs": [],
   "source": []
  },
  {
   "cell_type": "code",
   "execution_count": null,
   "id": "e1665a4a",
   "metadata": {},
   "outputs": [],
   "source": []
  },
  {
   "cell_type": "code",
   "execution_count": null,
   "id": "f8e08e0f",
   "metadata": {},
   "outputs": [],
   "source": []
  },
  {
   "cell_type": "code",
   "execution_count": null,
   "id": "b0b8eb2e",
   "metadata": {},
   "outputs": [],
   "source": []
  }
 ],
 "metadata": {
  "kernelspec": {
   "display_name": "Python 3 (ipykernel)",
   "language": "python",
   "name": "python3"
  },
  "language_info": {
   "codemirror_mode": {
    "name": "ipython",
    "version": 3
   },
   "file_extension": ".py",
   "mimetype": "text/x-python",
   "name": "python",
   "nbconvert_exporter": "python",
   "pygments_lexer": "ipython3",
   "version": "3.9.7"
  }
 },
 "nbformat": 4,
 "nbformat_minor": 5
}
